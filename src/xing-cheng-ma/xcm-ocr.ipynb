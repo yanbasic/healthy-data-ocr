{
 "cells": [
  {
   "cell_type": "code",
   "execution_count": null,
   "id": "christian-binding",
   "metadata": {},
   "outputs": [],
   "source": [
    "import base64\n",
    "import json\n",
    "import requests\n",
    "import pandas as pd"
   ]
  },
  {
   "cell_type": "code",
   "execution_count": null,
   "id": "upset-serial",
   "metadata": {},
   "outputs": [],
   "source": [
    "jkb_img = open('xcm-test-input.jpeg', 'rb')\n",
    "base64_data = base64.b64encode(jkb_img.read())"
   ]
  },
  {
   "cell_type": "code",
   "execution_count": null,
   "id": "thick-feeling",
   "metadata": {},
   "outputs": [],
   "source": [
    "payload = json.dumps({\n",
    "    \"template_id\": \"3e2183c63b139f6870c70865f4677f99e70ffcd2\",\n",
    "    \"img\": str(base64_data, encoding=\"utf-8\")\n",
    "})"
   ]
  },
  {
   "cell_type": "code",
   "execution_count": null,
   "id": "nonprofit-watson",
   "metadata": {},
   "outputs": [],
   "source": [
    "url = \"https://[API-ID].execute-api.[REGION-ID].amazonaws.com.cn/prod/custom-ocr/\""
   ]
  },
  {
   "cell_type": "code",
   "execution_count": null,
   "id": "liable-firewall",
   "metadata": {},
   "outputs": [],
   "source": [
    "response = requests.request(\"POST\", url, data=payload)"
   ]
  },
  {
   "cell_type": "code",
   "execution_count": null,
   "id": "inclusive-bonus",
   "metadata": {},
   "outputs": [],
   "source": [
    "df = pd.DataFrame.from_dict(json.loads(response.text))"
   ]
  },
  {
   "cell_type": "code",
   "execution_count": null,
   "id": "structural-registrar",
   "metadata": {},
   "outputs": [],
   "source": [
    "df.style"
   ]
  }
 ],
 "metadata": {
  "kernelspec": {
   "display_name": "Python 3.9.10 64-bit",
   "language": "python",
   "name": "python3"
  },
  "language_info": {
   "codemirror_mode": {
    "name": "ipython",
    "version": 3
   },
   "file_extension": ".py",
   "mimetype": "text/x-python",
   "name": "python",
   "nbconvert_exporter": "python",
   "pygments_lexer": "ipython3",
   "version": "3.9.10"
  },
  "vscode": {
   "interpreter": {
    "hash": "aee8b7b246df8f9039afb4144a1f6fd8d2ca17a180786b69acc140d282b71a49"
   }
  }
 },
 "nbformat": 4,
 "nbformat_minor": 5
}
