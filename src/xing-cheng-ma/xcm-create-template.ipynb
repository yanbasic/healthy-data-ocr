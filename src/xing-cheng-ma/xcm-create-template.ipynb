{
 "cells": [
  {
   "cell_type": "code",
   "execution_count": null,
   "id": "deadly-compatibility",
   "metadata": {},
   "outputs": [],
   "source": [
    "import json\n",
    "import requests\n",
    "import base64"
   ]
  },
  {
   "cell_type": "code",
   "execution_count": null,
   "id": "surface-novel",
   "metadata": {},
   "outputs": [],
   "source": [
    "jkb_img = open('xcm-template.png', 'rb')\n",
    "base64_data = base64.b64encode(jkb_img.read())"
   ]
  },
  {
   "cell_type": "code",
   "execution_count": null,
   "id": "representative-switch",
   "metadata": {},
   "outputs": [],
   "source": [
    "\n",
    "payload = json.dumps({\n",
    "        \"type\" : \"add\",\n",
    "        \"img\": str(base64_data, encoding=\"utf-8\"),\n",
    "        \"template\": [\n",
    "        [[[116, 335], [410, 335], [410, 374], [116, 374]], \"手机号码\"],\n",
    "        [[[176, 387], [452, 384], [452, 429], [176, 429]], \"更新时间\"],\n",
    "        [[[53, 710], [465, 710], [465, 837], [54, 837]], \"途经地区\"]\n",
    "        ]\n",
    "})"
   ]
  },
  {
   "cell_type": "code",
   "execution_count": null,
   "id": "expressed-clerk",
   "metadata": {},
   "outputs": [],
   "source": [
    "url = \"https://[API-ID].execute-api.[REGION-ID].amazonaws.com.cn/prod/custom-ocr/\"\n",
    "response = requests.request(\"POST\", url, data=payload)"
   ]
  },
  {
   "cell_type": "code",
   "execution_count": null,
   "id": "first-disclosure",
   "metadata": {},
   "outputs": [],
   "source": [
    "json.loads(response.text)"
   ]
  }
 ],
 "metadata": {
  "kernelspec": {
   "display_name": "Python 3.9.10 64-bit",
   "language": "python",
   "name": "python3"
  },
  "language_info": {
   "codemirror_mode": {
    "name": "ipython",
    "version": 3
   },
   "file_extension": ".py",
   "mimetype": "text/x-python",
   "name": "python",
   "nbconvert_exporter": "python",
   "pygments_lexer": "ipython3",
   "version": "3.9.10"
  },
  "vscode": {
   "interpreter": {
    "hash": "aee8b7b246df8f9039afb4144a1f6fd8d2ca17a180786b69acc140d282b71a49"
   }
  }
 },
 "nbformat": 4,
 "nbformat_minor": 5
}
