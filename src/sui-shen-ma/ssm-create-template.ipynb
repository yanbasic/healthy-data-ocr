{
 "cells": [
  {
   "cell_type": "code",
   "execution_count": null,
   "id": "deadly-compatibility",
   "metadata": {},
   "outputs": [],
   "source": [
    "import json\n",
    "import requests\n",
    "import base64"
   ]
  },
  {
   "cell_type": "code",
   "execution_count": null,
   "id": "surface-novel",
   "metadata": {},
   "outputs": [],
   "source": [
    "jkb_img = open('ssm-template.png', 'rb')\n",
    "base64_data = base64.b64encode(jkb_img.read())"
   ]
  },
  {
   "cell_type": "code",
   "execution_count": null,
   "id": "representative-switch",
   "metadata": {},
   "outputs": [],
   "source": [
    "\n",
    "payload = json.dumps({\n",
    "        \"type\" : \"add\",\n",
    "        \"img\": str(base64_data, encoding=\"utf-8\"),\n",
    "        \"template\": [\n",
    "                [[[189, 256], [257, 261], [261, 293], [192, 296]], \"姓名\"],\n",
    "                [[[140,366], [356,369], [350,406], [138,402]], \"查询时间\"],\n",
    "                [[[208,673], [285,675], [284,713], [211,712]], \"状态\"],\n",
    "                [[[108,774], [181,777], [181,838], [114,839]], \"天数\"]\n",
    "        ]\n",
    "})"
   ]
  },
  {
   "cell_type": "code",
   "execution_count": null,
   "id": "expressed-clerk",
   "metadata": {},
   "outputs": [],
   "source": [
    "url = \"https://[API-ID].execute-api.[REGION-ID].amazonaws.com.cn/prod/custom-ocr/\"\n",
    "response = requests.request(\"POST\", url, data=payload)"
   ]
  },
  {
   "cell_type": "code",
   "execution_count": null,
   "id": "first-disclosure",
   "metadata": {},
   "outputs": [],
   "source": [
    "json.loads(response.text)"
   ]
  }
 ],
 "metadata": {
  "kernelspec": {
   "display_name": "Python 3.9.10 64-bit",
   "language": "python",
   "name": "python3"
  },
  "language_info": {
   "codemirror_mode": {
    "name": "ipython",
    "version": 3
   },
   "file_extension": ".py",
   "mimetype": "text/x-python",
   "name": "python",
   "nbconvert_exporter": "python",
   "pygments_lexer": "ipython3",
   "version": "3.9.10"
  },
  "vscode": {
   "interpreter": {
    "hash": "aee8b7b246df8f9039afb4144a1f6fd8d2ca17a180786b69acc140d282b71a49"
   }
  }
 },
 "nbformat": 4,
 "nbformat_minor": 5
}
