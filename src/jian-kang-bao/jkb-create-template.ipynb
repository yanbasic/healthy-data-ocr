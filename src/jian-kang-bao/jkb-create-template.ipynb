{
 "cells": [
  {
   "cell_type": "code",
   "execution_count": null,
   "id": "deadly-compatibility",
   "metadata": {},
   "outputs": [],
   "source": [
    "import json\n",
    "import requests\n",
    "import base64"
   ]
  },
  {
   "cell_type": "code",
   "execution_count": null,
   "id": "surface-novel",
   "metadata": {},
   "outputs": [],
   "source": [
    "jkb_img = open('jkb-template.png', 'rb')\n",
    "base64_data = base64.b64encode(jkb_img.read())"
   ]
  },
  {
   "cell_type": "code",
   "execution_count": null,
   "id": "representative-switch",
   "metadata": {},
   "outputs": [],
   "source": [
    "\n",
    "payload = json.dumps({\n",
    "        \"type\" : \"add\",\n",
    "        \"img\": str(base64_data, encoding=\"utf-8\"),\n",
    "        \"template\": [\n",
    "        [[[173, 177], [364, 173], [364, 210], [173, 210]], \"日期\"],\n",
    "        [[[211, 206], [319, 210], [319, 233], [208, 231]], \"时间\"],\n",
    "        [[[190, 575], [361, 575], [361, 628], [191, 629]], \"状态\"],\n",
    "        [[[217, 668], [317, 671], [309, 709], [205, 710]], \"核酸\"],\n",
    "        [[[386, 658], [424, 660], [424, 708], [386, 708]], \"核酸时间\"],\n",
    "        [[[263, 810], [483, 828], [483, 864], [289, 867]], \"姓名\"],\n",
    "        [[[220, 876], [482, 870], [479, 909], [222, 908]], \"身份证号\"],\n",
    "        [[[277, 917], [478, 909], [482, 954], [272, 950]], \"查询时间\"],\n",
    "        [[[272, 955], [483, 956], [475, 990], [269, 992]], \"失效时间\"]\n",
    "        ]\n",
    "})"
   ]
  },
  {
   "cell_type": "code",
   "execution_count": null,
   "id": "expressed-clerk",
   "metadata": {},
   "outputs": [],
   "source": [
    "url = \"https://[API-ID].execute-api.[REGION-ID].amazonaws.com.cn/prod/custom-ocr/\"\n",
    "response = requests.request(\"POST\", url, data=payload)"
   ]
  },
  {
   "cell_type": "code",
   "execution_count": null,
   "id": "first-disclosure",
   "metadata": {},
   "outputs": [],
   "source": [
    "json.loads(response.text)"
   ]
  }
 ],
 "metadata": {
  "kernelspec": {
   "display_name": "Python 3.9.10 64-bit",
   "language": "python",
   "name": "python3"
  },
  "language_info": {
   "codemirror_mode": {
    "name": "ipython",
    "version": 3
   },
   "file_extension": ".py",
   "mimetype": "text/x-python",
   "name": "python",
   "nbconvert_exporter": "python",
   "pygments_lexer": "ipython3",
   "version": "3.9.10"
  },
  "vscode": {
   "interpreter": {
    "hash": "aee8b7b246df8f9039afb4144a1f6fd8d2ca17a180786b69acc140d282b71a49"
   }
  }
 },
 "nbformat": 4,
 "nbformat_minor": 5
}
